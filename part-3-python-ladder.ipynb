{
 "cells": [
  {
   "cell_type": "markdown",
   "metadata": {},
   "source": [
    "<img src=\"http://imgur.com/1ZcRyrc.png\" style=\"float: left; margin: 20px; height: 50px\" />\n",
    "\n",
    "# Python Ladder Challenge - Notebook 3\n",
    "\n",
    "_Author:_ Tim Book"
   ]
  },
  {
   "cell_type": "markdown",
   "metadata": {},
   "source": [
    "# Climb the Ladder!\n",
    "Our class moves quickly! Sometimes, it feels like we make leaps in logic that are a bit too big. Learn Python _slowly_, by doing many, many examples. Problems in this notebook start out easy and progressively get harder, so that the next rung of the Python ladder is always within reach."
   ]
  },
  {
   "cell_type": "markdown",
   "metadata": {},
   "source": [
    "# Section VII: Functions\n",
    "In this section, every question gives example(s). You can (but don't need to) name your function accordingly. You _should_ test out the example to make sure your function works properly. If the example doesn't work, your answer is likely incorrect."
   ]
  },
  {
   "cell_type": "markdown",
   "metadata": {},
   "source": [
    "72) Write a function to compute the area of a triangle. You only need the base and height of a triangle to compute its area.\n",
    "\n",
    "* _Example:_ `area_triangle(5, 4) == 10.0`"
   ]
  },
  {
   "cell_type": "code",
   "execution_count": 2,
   "metadata": {},
   "outputs": [
    {
     "data": {
      "text/plain": [
       "20"
      ]
     },
     "execution_count": 2,
     "metadata": {},
     "output_type": "execute_result"
    }
   ],
   "source": [
    "def area_triangle(base, height):\n",
    "    return base*height\n",
    "area_triangle(4,5)"
   ]
  },
  {
   "cell_type": "markdown",
   "metadata": {},
   "source": [
    "73) Import `pi` from `math` and write a function to compute the area of a circle. You only need the radius of a circle to compute its area.\n",
    "\n",
    "* _Example:_ `area_circle(10) == 314.159...`"
   ]
  },
  {
   "cell_type": "code",
   "execution_count": 3,
   "metadata": {},
   "outputs": [
    {
     "data": {
      "text/plain": [
       "314.1592653589793"
      ]
     },
     "execution_count": 3,
     "metadata": {},
     "output_type": "execute_result"
    }
   ],
   "source": [
    "from math import pi\n",
    "def area_circle(r):\n",
    "    return pi*r**2\n",
    "area_circle(10)"
   ]
  },
  {
   "cell_type": "markdown",
   "metadata": {},
   "source": [
    "74) Write a function that takes in a number `max_num` and returns the sum of the numbers 1 through `max_num` (inclusive).\n",
    "* _Example:_ `sum_n(5) == 1 + 2 + 3 + 4 + 5 == 15`"
   ]
  },
  {
   "cell_type": "code",
   "execution_count": 22,
   "metadata": {},
   "outputs": [
    {
     "data": {
      "text/plain": [
       "15"
      ]
     },
     "execution_count": 22,
     "metadata": {},
     "output_type": "execute_result"
    }
   ],
   "source": [
    "def max_num(num_n):\n",
    "    count=0\n",
    "    for i in range(num_n+1):\n",
    "        count += i        \n",
    "    return count\n",
    "max_num(5)"
   ]
  },
  {
   "cell_type": "markdown",
   "metadata": {},
   "source": [
    "75) Write a function that takes in a number `max_num` and returns the sum of the square of the numbers 1 through `max_num` (inclusive).\n",
    "* `sum_squares(5) == 1 + 4 + 9 + 16 + 25 == 55`"
   ]
  },
  {
   "cell_type": "code",
   "execution_count": 21,
   "metadata": {},
   "outputs": [
    {
     "data": {
      "text/plain": [
       "55"
      ]
     },
     "execution_count": 21,
     "metadata": {},
     "output_type": "execute_result"
    }
   ],
   "source": [
    "def max_num1(num_n1):\n",
    "    count1=0\n",
    "    for i in range(num_n1+1):\n",
    "        count1 += i**2        \n",
    "    return count1\n",
    "max_num1(5)"
   ]
  },
  {
   "cell_type": "markdown",
   "metadata": {},
   "source": [
    "76) Write a function that takes a number (an amount in euros) and convert it to U.S. dollars. There are 1.1 U.S. dollars per euro.\n",
    "* `to_dollar(10) == 11.0`"
   ]
  },
  {
   "cell_type": "code",
   "execution_count": 24,
   "metadata": {},
   "outputs": [
    {
     "data": {
      "text/plain": [
       "11.0"
      ]
     },
     "execution_count": 24,
     "metadata": {},
     "output_type": "execute_result"
    }
   ],
   "source": [
    "def to_dollars(num_eu):\n",
    "    return 1.1*num_eu\n",
    "to_dollars(10)"
   ]
  },
  {
   "cell_type": "markdown",
   "metadata": {},
   "source": [
    "76) Write a function that takes a list of numbers (amounts in euros), and returns them converted to dollars. Use your answer to the previous question in your answer to this question.\n",
    "* _Example:_ `to_dollar_list([1, 10, 100]) == [1.1, 11.0, 110.0]`\n",
    "* _Note:_ You may get some decimal weirdness here."
   ]
  },
  {
   "cell_type": "code",
   "execution_count": 29,
   "metadata": {},
   "outputs": [
    {
     "data": {
      "text/plain": [
       "[1.1, 11.0, 110.00000000000001]"
      ]
     },
     "execution_count": 29,
     "metadata": {},
     "output_type": "execute_result"
    }
   ],
   "source": [
    "to_dollar_list=[1, 10, 100]\n",
    "list=[]\n",
    "def to_dollars(to_dollar_list):\n",
    "    for i in to_dollar_list:\n",
    "        n_eu_to_dollar = 1.1*i\n",
    "        list.append(n_eu_to_dollar)\n",
    "    return list\n",
    "to_dollars([1, 10, 100])"
   ]
  },
  {
   "cell_type": "markdown",
   "metadata": {},
   "source": [
    "77) Write a function that takes a number (a person's height) and returns \"Tall enough\" if they are at least 5 feet (60 inches) or \"Too short\" if they are below 5 feet.\n",
    "* _Example:_ `is_tall(72) == 'Tall enough'`\n",
    "* _Example:_ `is_tall(52) == 'Too short'`"
   ]
  },
  {
   "cell_type": "code",
   "execution_count": 32,
   "metadata": {},
   "outputs": [
    {
     "data": {
      "text/plain": [
       "'Too short'"
      ]
     },
     "execution_count": 32,
     "metadata": {},
     "output_type": "execute_result"
    }
   ],
   "source": [
    "def my_function(num_any):\n",
    "    if num_any >=60:\n",
    "        return \"Tall enough\"\n",
    "    else:\n",
    "        return \"Too short\"\n",
    "my_function(30)"
   ]
  },
  {
   "cell_type": "markdown",
   "metadata": {},
   "source": [
    "78) Write a function that takes a list of numbers (peoples' heights) and returns a list of strings \"Tall enough\" or \"Too short\" as in the previous problem. Use your answer to the previous problem to help answer this problem.\n",
    "* _Example:_ `is_tall_list([58, 70, 60]) == ['Too short', 'Tall enough', 'Tall enough']`"
   ]
  },
  {
   "cell_type": "code",
   "execution_count": 38,
   "metadata": {},
   "outputs": [
    {
     "data": {
      "text/plain": [
       "['Too short', 'Tall enough', 'Tall enough']"
      ]
     },
     "execution_count": 38,
     "metadata": {},
     "output_type": "execute_result"
    }
   ],
   "source": [
    "is_tall_list=[58, 70, 60]\n",
    "def my_function(is_tall_list):\n",
    "    new_list1 = []\n",
    "    for i in is_tall_list:\n",
    "        \n",
    "        if i >=60:\n",
    "            new_list1.append(\"Tall enough\")\n",
    "        else:\n",
    "            new_list1.append(\"Too short\")\n",
    "    return new_list1\n",
    "my_function(is_tall_list)"
   ]
  },
  {
   "cell_type": "markdown",
   "metadata": {},
   "source": [
    "79) Write a function that takes in a numeric grade (0 to 100) and returns the letter grade (no pluses or minuses). In a traditional rubric, that would be as follows:\n",
    "\n",
    "* 90 or above = A\n",
    "* 80 - 89 = B\n",
    "* 70 - 79 = C\n",
    "* 60 - 69 = D\n",
    "* 59 or below = F\n",
    "    \n",
    "    \n",
    "* _Example:_ `letter_grade(85) == 'B'`"
   ]
  },
  {
   "cell_type": "code",
   "execution_count": 9,
   "metadata": {},
   "outputs": [
    {
     "name": "stdout",
     "output_type": "stream",
     "text": [
      "C\n"
     ]
    }
   ],
   "source": [
    "def get_letter_grade(score):\n",
    "    if score >= 90:\n",
    "        return 'A'\n",
    "    elif 80 <= score < 90:\n",
    "        return \"B\"\n",
    "    elif 70 <= score < 80:\n",
    "        return \"C\"\n",
    "    elif 60 <= score < 70:\n",
    "        return \"D\"\n",
    "    else:\n",
    "        return \"F\"\n",
    "print(get_letter_grade(70))"
   ]
  },
  {
   "cell_type": "markdown",
   "metadata": {},
   "source": [
    "80) Write _another_ function that takes a list of numeric grades and returns their letter grades. Use the function written above in your answer.\n",
    "\n",
    "* _Example:_ `letter_grades([85, 62, 90]) == ['B', 'D', 'A']`"
   ]
  },
  {
   "cell_type": "code",
   "execution_count": 10,
   "metadata": {},
   "outputs": [
    {
     "data": {
      "text/plain": [
       "['B', 'D', 'A']"
      ]
     },
     "execution_count": 10,
     "metadata": {},
     "output_type": "execute_result"
    }
   ],
   "source": [
    "def letter_grades(list_of_score):\n",
    "    list_of_grade = []\n",
    "    for each in list_of_score:\n",
    "        list_of_grade.append(get_letter_grade(each))\n",
    "    return list_of_grade\n",
    "letter_grades([85, 62, 90])"
   ]
  },
  {
   "cell_type": "markdown",
   "metadata": {},
   "source": [
    "81) Write a function that takes in a string and returns the number of vowels in that string. (No, y is not a vowel).\n",
    "* _Example:_ `vowel_count('General Assembly') == 5`"
   ]
  },
  {
   "cell_type": "code",
   "execution_count": 45,
   "metadata": {},
   "outputs": [
    {
     "data": {
      "text/plain": [
       "4"
      ]
     },
     "execution_count": 45,
     "metadata": {},
     "output_type": "execute_result"
    }
   ],
   "source": [
    "string = 'General Assembly'\n",
    "vowels='aeiou'\n",
    "def vowel_count(string):\n",
    "    count=0\n",
    "    for s in string:\n",
    "        if s in vowels:\n",
    "            count=count+1\n",
    "    return count\n",
    "vowel_count(string)   "
   ]
  },
  {
   "cell_type": "markdown",
   "metadata": {},
   "source": [
    "82) Write a function that takes in a string and returns that string with its consonants capitalized and vowels lowercased.\n",
    "\n",
    "* _Example:_ `toggle_case('General Assembly') == 'GeNeRaL aSSeMBLY'`"
   ]
  },
  {
   "cell_type": "code",
   "execution_count": 54,
   "metadata": {},
   "outputs": [
    {
     "data": {
      "text/plain": [
       "'GeNeRaL ASSeMBLY'"
      ]
     },
     "execution_count": 54,
     "metadata": {},
     "output_type": "execute_result"
    }
   ],
   "source": [
    "string = 'General Assembly'\n",
    "def vowel_count(string):\n",
    "    answer = \"\"\n",
    "    vowels='aeiou'\n",
    "    for s in string:\n",
    "        if s not in vowels:\n",
    "            answer=answer + s.upper()\n",
    "        else:\n",
    "            answer=answer+ s.lower()\n",
    "    return answer\n",
    "vowel_count(string)"
   ]
  },
  {
   "cell_type": "markdown",
   "metadata": {},
   "source": [
    "83) Write a function that takes in a string and returns that string with its vowels removed.\n",
    "* _Example:_ `disemvowel('Python is my favorite language') == 'Pythn s my fvrt lngg'`"
   ]
  },
  {
   "cell_type": "code",
   "execution_count": 59,
   "metadata": {},
   "outputs": [
    {
     "data": {
      "text/plain": [
       "'Pythn s my fvrt lngg'"
      ]
     },
     "execution_count": 59,
     "metadata": {},
     "output_type": "execute_result"
    }
   ],
   "source": [
    "string1 = 'Python is my favorite language'\n",
    "def disemvowel(string1):\n",
    "    vowels='aeiou'\n",
    "    for s1 in string1:\n",
    "        if s1 in vowels:\n",
    "            string1=string1.replace(s1, \"\")\n",
    "    return string1\n",
    "disemvowel(string1)"
   ]
  },
  {
   "cell_type": "markdown",
   "metadata": {},
   "source": [
    "84) Write a function that takes in a string and returns that string with its vowels removed _unless it's a one-letter word_, in which case leave the vowel intact. You should use your answer in the previous problem to answer this.\n",
    "* _Example:_ `smart_disemvowel('I love Python programming') == 'I lv Pythn prgrmmng'`"
   ]
  },
  {
   "cell_type": "code",
   "execution_count": 62,
   "metadata": {},
   "outputs": [
    {
     "data": {
      "text/plain": [
       "'I lv Pythn prgrmmng'"
      ]
     },
     "execution_count": 62,
     "metadata": {},
     "output_type": "execute_result"
    }
   ],
   "source": [
    "string2 = 'I love Python programming'\n",
    "def smart_disemvowel(string2):\n",
    "    vowels='aeiou'\n",
    "    for s2 in string2:\n",
    "        if s2 in vowels:\n",
    "            string2=string2.replace(s2, \"\")\n",
    "    return string2\n",
    "smart_disemvowel(string2)"
   ]
  },
  {
   "cell_type": "markdown",
   "metadata": {},
   "source": [
    "85) Write a function that takes in a string (likely multiple words long) and returns that string with the order of the words reversed.\n",
    "* _Example:_ `word_reverser('Data science is cool') == 'cool is science Data'`"
   ]
  },
  {
   "cell_type": "code",
   "execution_count": 69,
   "metadata": {},
   "outputs": [
    {
     "data": {
      "text/plain": [
       "'cool is science Data'"
      ]
     },
     "execution_count": 69,
     "metadata": {},
     "output_type": "execute_result"
    }
   ],
   "source": [
    "def word_reverser(senten):\n",
    "    reversedlist = senten.split()\n",
    "    reversedlist = reversedlist[::-1]\n",
    "    string = \"\"\n",
    "    for word in reversedlist:\n",
    "        string += word\n",
    "        string += \" \"\n",
    "        \n",
    "    return string.strip()\n",
    "\n",
    "word_reverser('Data science is cool')\n",
    "    "
   ]
  },
  {
   "cell_type": "markdown",
   "metadata": {},
   "source": [
    "86) Write a function that takes in a string (likely multiple words long) and returns that string with each word reversed, but with the words in the same order.\n",
    "* _Example:_ `letter_reverser('Data science is cool') == 'ataD ecneics si looc'`"
   ]
  },
  {
   "cell_type": "code",
   "execution_count": 72,
   "metadata": {},
   "outputs": [
    {
     "data": {
      "text/plain": [
       "'ataD ecneics si looc'"
      ]
     },
     "execution_count": 72,
     "metadata": {},
     "output_type": "execute_result"
    }
   ],
   "source": [
    "def letter_reverser(lett_rev):\n",
    "  return ' '.join([w[::-1] for w in lett_rev.split(' ')])\n",
    "letter_reverser('Data science is cool')  "
   ]
  },
  {
   "cell_type": "markdown",
   "metadata": {},
   "source": [
    "87) Write a function that converts a string to \"leet speak\". Leet speak is a made-up internet language which you replace characters with symbols that look like those characters. For example:\n",
    "\n",
    "* _Example:_ `to_leet_speak('i am elite') == '! @M 31!73'`\n",
    "* _Hint:_ Recall what `.get()` does when called on a dictionary? Will this help you with spaces or other non-letter characters?\n",
    "\n",
    "_Note:_ This problem is borrowed from [this](https://www.codewars.com/kata/toleetspeak) wonderful Codewars challenge!\n",
    "\n",
    "Below is the English-to-leet dictionary:"
   ]
  },
  {
   "cell_type": "code",
   "execution_count": null,
   "metadata": {},
   "outputs": [],
   "source": [
    "LEET_DICT = {'A' : '@', 'B' : '8', 'C' : '(', 'D' : 'D', 'E' : '3',\n",
    "             'F' : 'F', 'G' : '6', 'H' : '#', 'I' : '!', 'J' : 'J',\n",
    "             'K' : 'K', 'L' : '1', 'M' : 'M', 'N' : 'N', 'O' : '0',\n",
    "             'P' : 'P', 'Q' : 'Q', 'R' : 'R', 'S' : '$', 'T' : '7',\n",
    "             'U' : 'U', 'V' : 'V', 'W' : 'W', 'X' : 'X', 'Y' : 'Y',\n",
    "             'Z' : '2'}"
   ]
  },
  {
   "cell_type": "code",
   "execution_count": null,
   "metadata": {},
   "outputs": [],
   "source": []
  },
  {
   "cell_type": "markdown",
   "metadata": {},
   "source": [
    "87) Write an `is_prime` function that takes in a number and returns a boolean of whether or not that number was prime. (_Hint:_ You already did this in a previous section.)\n",
    "\n",
    "* _Example:_ `is_prime(5) == True`\n",
    "* _Example:_ `is_prime(6) == False`"
   ]
  },
  {
   "cell_type": "code",
   "execution_count": 7,
   "metadata": {},
   "outputs": [
    {
     "name": "stdout",
     "output_type": "stream",
     "text": [
      "True\n"
     ]
    }
   ],
   "source": [
    "def is_prime(n):\n",
    "    if (n==1):\n",
    "        return False\n",
    "    elif (n==2):\n",
    "        return True;\n",
    "    else:\n",
    "        for x in range(2,n):\n",
    "            if(n % x==0):\n",
    "                return False\n",
    "        return True             \n",
    "print(is_prime(5)) "
   ]
  },
  {
   "cell_type": "markdown",
   "metadata": {},
   "source": [
    "88) Write a function that takes in a number and returns the sum of all primes less than or equal to that number. You'll need your answer to the previous problem to answer this.\n",
    "* _Example:_ `sum_primes(11) == 2 + 3 + 5 + 7 + 11 == 28`\n",
    "* _Bonus:_ Can you do this in one line with a list comprehension?"
   ]
  },
  {
   "cell_type": "code",
   "execution_count": 8,
   "metadata": {},
   "outputs": [
    {
     "data": {
      "text/plain": [
       "28"
      ]
     },
     "execution_count": 8,
     "metadata": {},
     "output_type": "execute_result"
    }
   ],
   "source": [
    "def sum_primes(num):\n",
    "    return sum([num for num in range(2,num+1) if is_prime(num) == True])\n",
    "sum_primes(11)"
   ]
  },
  {
   "cell_type": "markdown",
   "metadata": {},
   "source": [
    "# Section VIII: What's next?"
   ]
  },
  {
   "cell_type": "markdown",
   "metadata": {},
   "source": [
    "## Section VIIIa: Virtual Practice\n",
    "\n",
    "Now that we've got a handle on the basics (and a few problems much more difficult than \"basic\"), what do we do next? If you'd like some more difficult challenges, sign up for [Codewars](https://www.codewars.com)! Codewars is a website in which you are repeatedly given coding challenges that get progressively more difficult. You earn XP and level up, giving you harder and harder problems. Below is an ever-updating list of coding challenges that we recommend. Some of them are Codewars challenges, some from other resources:"
   ]
  },
  {
   "cell_type": "markdown",
   "metadata": {},
   "source": [
    "* [Run-length Encoding](https://www.codewars.com/kata/run-length-encoding-1) (Codewars)\n",
    "* [Permutations](https://leetcode.com/problems/permutations/) (Leetcode)\n",
    "* [\"1-Dimensional Candy Crush\"](https://leetcode.com/discuss/interview-question/380650/bloomberg-phone-screen-candy-crush-1d) (Leetcode)"
   ]
  },
  {
   "cell_type": "markdown",
   "metadata": {},
   "source": [
    "## Section VIIIb: Real Interview Challenges\n",
    "Below are interesting challenges stolen directly from real interviews! These challenges have been reported from both GA students and GA instructors. If you find a good one in your future interviews, please come back and tell us! This section of the ladder is ever-updating."
   ]
  },
  {
   "cell_type": "markdown",
   "metadata": {},
   "source": [
    "### File Permissions\n",
    "In UNIX-like systems (eg, Mac and Linux), the permissions on certain files are given by short 9-character codes. These characters represent the read (**r**), write (**w**), and execute (**x**) permissions of the owner, assigned group, and all users, respectively. For example, the code\n",
    "\n",
    "`rwx------`\n",
    "\n",
    "means the file owner has all 3 kinds of permissions, but no one else can do anything. Another common code is \n",
    "\n",
    "`rwxr-xr-x`\n",
    "\n",
    "which means that everyone can read and execute the file, but only the owner has permission to write to it (that is, to change it). You can see these permissions yourself by typing `ls -l` from your command line!\n",
    "\n",
    "In order to further save space, these codes are often saved as a 3-digit number, where each digit corresponds to the sum of the values of `r`, `w`, and `x`. `r` is worth 4, `w` is worth 2, `x` is worth 1, and `-` is worth 0. For example, `rwx------` is shortened to the code `700`, and `rwxr-xr-x` is `755`.\n",
    "\n",
    "Your challenge is to write a function that shortens the \"permission string\" to its corresponding \"permission code\" (properly known as its \"octal notation\"). Please note that the output of your function should be an integer, not a string! You can assume the \"permission string\" is always valid.\n",
    "\n",
    "* _Example:_ `permissions_to_octa(\"rwxr-xr-x\") = 755`"
   ]
  },
  {
   "cell_type": "code",
   "execution_count": 72,
   "metadata": {},
   "outputs": [],
   "source": [
    "def permissions_to_octal(p):\n",
    "    \"\"\"Returns the 3-digit octal code given permissions string `p`, e.g. 'rwxr-xr-x' is 755.\"\"\"\n",
    "    pass"
   ]
  },
  {
   "cell_type": "markdown",
   "metadata": {},
   "source": [
    "### Grocery Bags\n",
    "A large grocery bag can hold 5 items, while a small grocery bag can hold only 1. The numbers of each size bag available may be limited. All items must be placed in a bag and each bag must be filled completely. For example, if we have 16 items, 2 large bags, and 10 small bags, 8 total bags are needed. 2 large bags + 6 small bags = 16 items in 8 bags.\n",
    "\n",
    "Write a function to calculate the **minimum** number of bags needed. If it's not possible to meet these conditions, return `-1`.\n",
    "\n",
    "* `min_bags(16, 2, 10) = 8`\n",
    "* `min_bags(20, 2, 2) = -1`"
   ]
  },
  {
   "cell_type": "code",
   "execution_count": 2,
   "metadata": {},
   "outputs": [],
   "source": [
    "def min_bags(num_items, avail_large, avail_small):\n",
    "    \"\"\"\n",
    "    Return the least number of bags needed to hold `num_items` items, given there are only:\n",
    "        + `avail_large` 5-item bags, and \n",
    "        + `avail_small` 1-item bags.\n",
    "    \"\"\"\n",
    "    if 5 * avail_large + 1 * avail_small < num_items:\n",
    "        return '-1'\n",
    "    else: \n",
    "        need_large = 0\n",
    "        remain_item = num_items\n",
    "        while remain_item > 5 and need_large < avail_large:\n",
    "            need_large += 1\n",
    "            remain_item -= 5  \n",
    "        need_small = num_items - 5 * need_large\n",
    "        return need_large + need_small"
   ]
  },
  {
   "cell_type": "code",
   "execution_count": null,
   "metadata": {},
   "outputs": [],
   "source": []
  }
 ],
 "metadata": {
  "kernelspec": {
   "display_name": "Python 3",
   "language": "python",
   "name": "python3"
  },
  "language_info": {
   "codemirror_mode": {
    "name": "ipython",
    "version": 3
   },
   "file_extension": ".py",
   "mimetype": "text/x-python",
   "name": "python",
   "nbconvert_exporter": "python",
   "pygments_lexer": "ipython3",
   "version": "3.8.5"
  }
 },
 "nbformat": 4,
 "nbformat_minor": 4
}
